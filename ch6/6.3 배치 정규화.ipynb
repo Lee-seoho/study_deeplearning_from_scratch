{
 "cells": [
  {
   "cell_type": "markdown",
   "id": "af52e363",
   "metadata": {},
   "source": [
    "# 6.3.1 배치 정규화 알고리즘\n",
    "배치 정규화의 장점은 크게 3가지로 생각해볼 수 있다.\n",
    "1. 학습 속도 개선\n",
    "2. 초기값에 크게 의존하지 않음\n",
    "3. overfitting을 억제할 수 있다.\n",
    "\n",
    "배치 정규화는 학습 시 미니배치를 단위로 정규화한다. 구체적으로 보면 데이터 분포가 평균이 0, 분산이 1이 되도록 정규화 한다. 수식으로는 다음과 같다."
   ]
  },
  {
   "cell_type": "markdown",
   "id": "b200d51e",
   "metadata": {},
   "source": [
    "<p align=\"center\"><img src=\"imgs/6-11.png\" width = 300></p>"
   ]
  },
  {
   "cell_type": "markdown",
   "id": "e434f350",
   "metadata": {},
   "source": [
    "이 처리를 활성화 함수 앞(혹은 뒤)에 삽입 함으로써 데이터 분포가 덜 치우치게 할 수 있다.\n",
    "또 배치 정규화 계층마다 이 정규화된 데이터에 고유한 확대와 이동변환을 수행한다. 배치 정규화의 계산 그래프는 다음과 같이 나타낼 수 있다"
   ]
  },
  {
   "cell_type": "markdown",
   "id": "427a5806",
   "metadata": {},
   "source": [
    "<p align=\"center\"><img src=\"imgs/6-12.png\" width=600></p>"
   ]
  },
  {
   "cell_type": "markdown",
   "id": "840c4a9b",
   "metadata": {},
   "source": [
    "# 6.3.2 배치 정규화 효과\n",
    "MNIST 데이터셋을 활용하여 배치 정규화 계층을 사용할 때와 그렇지 않을 때의 학습 진도차이를 알아보려 한다.\n",
    "<p align=\"center\"><img src=\"imgs/6-13.png\" width=600></p>"
   ]
  },
  {
   "cell_type": "markdown",
   "id": "9c651fb8",
   "metadata": {},
   "source": [
    "배치 정규화를 사용한 것이 학습을 확연히 빠르게 진전시킨다는 것을 확인할 수 있다. 가중치 초기값 분포를 다양하게 바꿔서 학습을 시키면 결과그래프는 다음과 같이 나오게 된다.\n",
    "<p align=\"center\"><img src=\"imgs/6-14.png\" width=600></p>\n",
    "\n",
    "거의 모든 경우에 배치 정규화를 사용할 때의 학습진도가 빠르다. 배치 정규화를 사용하면 학습이 빨라지며, 가중치 초기값에 크게 의존하지 않아도 된다. "
   ]
  }
 ],
 "metadata": {
  "kernelspec": {
   "display_name": "Python 3 (ipykernel)",
   "language": "python",
   "name": "python3"
  },
  "language_info": {
   "codemirror_mode": {
    "name": "ipython",
    "version": 3
   },
   "file_extension": ".py",
   "mimetype": "text/x-python",
   "name": "python",
   "nbconvert_exporter": "python",
   "pygments_lexer": "ipython3",
   "version": "3.11.5"
  }
 },
 "nbformat": 4,
 "nbformat_minor": 5
}
